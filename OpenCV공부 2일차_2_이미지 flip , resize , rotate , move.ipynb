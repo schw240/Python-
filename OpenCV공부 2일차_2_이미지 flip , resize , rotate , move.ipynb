{
 "cells": [
  {
   "cell_type": "code",
   "execution_count": 1,
   "metadata": {},
   "outputs": [],
   "source": [
    "import cv2\n",
    "import numpy as np"
   ]
  },
  {
   "cell_type": "code",
   "execution_count": 2,
   "metadata": {},
   "outputs": [
    {
     "name": "stdout",
     "output_type": "stream",
     "text": [
      "OpenCV veresion:\n",
      "4.2.0\n"
     ]
    }
   ],
   "source": [
    "print(\"OpenCV veresion:\")\n",
    "print(cv2.__version__)"
   ]
  },
  {
   "cell_type": "code",
   "execution_count": 3,
   "metadata": {},
   "outputs": [
    {
     "name": "stdout",
     "output_type": "stream",
     "text": [
      "width: 1080 pixels\n",
      "height: 1440 pixels\n",
      "channels: 3\n"
     ]
    }
   ],
   "source": [
    "img = cv2.imread(\"mydog.png\")\n",
    "print(\"width: {} pixels\".format(img.shape[1]))\n",
    "print(\"height: {} pixels\".format(img.shape[0]))\n",
    "print(\"channels: {}\".format(img.shape[2]))"
   ]
  },
  {
   "cell_type": "code",
   "execution_count": 4,
   "metadata": {},
   "outputs": [],
   "source": [
    "(height,width) = img.shape[:2] #2전까지의 값을 가지고옴 0,1가지고 오는데\n",
    "#0을 height에 width에 1의 값을 줌\n",
    "center = (width // 2 , height // 2)"
   ]
  },
  {
   "cell_type": "code",
   "execution_count": 5,
   "metadata": {},
   "outputs": [],
   "source": [
    "#사진 옮기기\n",
    "move = np.float32([[1,0,100],[0,1,100]])#위아래 (값이 양수면 down), 좌우(양수면 right)\n",
    "moved = cv2.warpAffine(img,move,(width,height)) #(img,좌표 , )\n",
    "#cv2.imshow(\"Moved down: + , up: - and right: + , left - \",moved)\n"
   ]
  },
  {
   "cell_type": "code",
   "execution_count": 8,
   "metadata": {},
   "outputs": [],
   "source": [
    "#사진 돌리기 (center , 각도, scale 크기)\n",
    "move = cv2.getRotationMatrix2D(center , 90,1.0)\n",
    "rotated = cv2.warpAffine(img, move, (width , height))\n",
    "#cv2.imshow(\"Rotated degrees\" , rotated)"
   ]
  },
  {
   "cell_type": "code",
   "execution_count": 12,
   "metadata": {},
   "outputs": [],
   "source": [
    "#사이즈 변경\n",
    "ratio = 200.0 / width\n",
    "dimension = (200 , int(height * ratio))\n",
    "\n",
    "resized = cv2.resize(img , dimension , interpolation = cv2.INTER_AREA)\n",
    "#cv2.imshow(\"Resized\" , resized)"
   ]
  },
  {
   "cell_type": "code",
   "execution_count": 11,
   "metadata": {},
   "outputs": [],
   "source": [
    "#이미지 flip\n",
    "flipped = cv2.flip(img , 1)\n",
    "cv2.imshow(\"Flipped Horizontal 1, Vertical 0 , both -1\" , flipped)\n",
    "\n",
    "cv2.waitKey(0)\n",
    "cv2.destroyAllWindows()"
   ]
  },
  {
   "cell_type": "code",
   "execution_count": null,
   "metadata": {},
   "outputs": [],
   "source": []
  }
 ],
 "metadata": {
  "kernelspec": {
   "display_name": "Python 3",
   "language": "python",
   "name": "python3"
  },
  "language_info": {
   "codemirror_mode": {
    "name": "ipython",
    "version": 3
   },
   "file_extension": ".py",
   "mimetype": "text/x-python",
   "name": "python",
   "nbconvert_exporter": "python",
   "pygments_lexer": "ipython3",
   "version": "3.7.3"
  }
 },
 "nbformat": 4,
 "nbformat_minor": 2
}
