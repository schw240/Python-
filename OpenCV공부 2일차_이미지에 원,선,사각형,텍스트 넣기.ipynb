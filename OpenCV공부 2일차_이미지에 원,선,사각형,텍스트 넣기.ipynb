{
 "cells": [
  {
   "cell_type": "code",
   "execution_count": 1,
   "metadata": {},
   "outputs": [],
   "source": [
    "import cv2"
   ]
  },
  {
   "cell_type": "code",
   "execution_count": 2,
   "metadata": {},
   "outputs": [
    {
     "name": "stdout",
     "output_type": "stream",
     "text": [
      "OpenCV version: \n",
      "4.2.0\n"
     ]
    }
   ],
   "source": [
    "print(\"OpenCV version: \")\n",
    "print(cv2.__version__)"
   ]
  },
  {
   "cell_type": "code",
   "execution_count": 3,
   "metadata": {},
   "outputs": [],
   "source": [
    "img = cv2.imread(\"mydog.png\")"
   ]
  },
  {
   "cell_type": "code",
   "execution_count": 4,
   "metadata": {},
   "outputs": [
    {
     "name": "stdout",
     "output_type": "stream",
     "text": [
      "width: 1080 pixels\n",
      "height: 1440 pixels\n",
      "channels: 3\n"
     ]
    }
   ],
   "source": [
    "print(\"width: {} pixels\".format(img.shape[1]))\n",
    "print(\"height: {} pixels\".format(img.shape[0]))\n",
    "print(\"channels: {}\".format(img.shape[2]))"
   ]
  },
  {
   "cell_type": "code",
   "execution_count": 5,
   "metadata": {},
   "outputs": [],
   "source": [
    "#cv2.imshow(\"mydog\",img)"
   ]
  },
  {
   "cell_type": "code",
   "execution_count": 6,
   "metadata": {},
   "outputs": [],
   "source": [
    "(b , g , r) = img[0,0]"
   ]
  },
  {
   "cell_type": "code",
   "execution_count": 7,
   "metadata": {},
   "outputs": [
    {
     "name": "stdout",
     "output_type": "stream",
     "text": [
      "Pixel  at (0,0) - Red: 168 , Green: 104 , Blue: 130\n"
     ]
    }
   ],
   "source": [
    "print(\"Pixel  at (0,0) - Red: {} , Green: {} , Blue: {}\".format(r,g,b))"
   ]
  },
  {
   "cell_type": "code",
   "execution_count": 8,
   "metadata": {},
   "outputs": [],
   "source": [
    "dot = img[50:100 , 50:100]\n",
    "#이미지에서 픽셀을 수정하기\n",
    "#cv2.imshow(\"Dot\" , dot)"
   ]
  },
  {
   "cell_type": "code",
   "execution_count": 9,
   "metadata": {},
   "outputs": [],
   "source": [
    "img[50:100 , 50:100] = (0,0,255)\n",
    "\n",
    "#cv2.imshow(\"mydog - dotted\" , img)"
   ]
  },
  {
   "cell_type": "code",
   "execution_count": 10,
   "metadata": {},
   "outputs": [
    {
     "data": {
      "text/plain": [
       "array([[[130, 104, 168],\n",
       "        [130, 104, 168],\n",
       "        [131, 105, 169],\n",
       "        ...,\n",
       "        [184, 171, 215],\n",
       "        [191, 178, 222],\n",
       "        [201, 188, 232]],\n",
       "\n",
       "       [[130, 104, 168],\n",
       "        [131, 105, 169],\n",
       "        [131, 105, 169],\n",
       "        ...,\n",
       "        [156, 142, 190],\n",
       "        [165, 149, 197],\n",
       "        [174, 160, 208]],\n",
       "\n",
       "       [[129, 103, 167],\n",
       "        [130, 104, 168],\n",
       "        [131, 105, 169],\n",
       "        ...,\n",
       "        [154, 134, 193],\n",
       "        [155, 133, 192],\n",
       "        [154, 134, 193]],\n",
       "\n",
       "       ...,\n",
       "\n",
       "       [[102,  77, 157],\n",
       "        [102,  77, 157],\n",
       "        [102,  77, 157],\n",
       "        ...,\n",
       "        [ 76,  93, 119],\n",
       "        [ 73,  93, 118],\n",
       "        [ 72,  92, 117]],\n",
       "\n",
       "       [[106,  81, 161],\n",
       "        [106,  81, 161],\n",
       "        [105,  81, 159],\n",
       "        ...,\n",
       "        [ 75,  92, 118],\n",
       "        [ 73,  93, 118],\n",
       "        [ 74,  94, 119]],\n",
       "\n",
       "       [[113,  88, 168],\n",
       "        [112,  87, 167],\n",
       "        [111,  87, 165],\n",
       "        ...,\n",
       "        [ 75,  92, 118],\n",
       "        [ 73,  93, 118],\n",
       "        [ 72,  92, 117]]], dtype=uint8)"
      ]
     },
     "execution_count": 10,
     "metadata": {},
     "output_type": "execute_result"
    }
   ],
   "source": [
    "#이미지안에 사각형 채우기(img , 시작점 위치 , 끝점 위치 , 색 , 선의 굵기)\n",
    "cv2.rectangle(img,(150,50) , (200,100) , (0,255,0),5)\n",
    "#cv2.imshow(\"mydog-draw\" ,img)"
   ]
  },
  {
   "cell_type": "code",
   "execution_count": 11,
   "metadata": {},
   "outputs": [
    {
     "data": {
      "text/plain": [
       "array([[[130, 104, 168],\n",
       "        [130, 104, 168],\n",
       "        [131, 105, 169],\n",
       "        ...,\n",
       "        [184, 171, 215],\n",
       "        [191, 178, 222],\n",
       "        [201, 188, 232]],\n",
       "\n",
       "       [[130, 104, 168],\n",
       "        [131, 105, 169],\n",
       "        [131, 105, 169],\n",
       "        ...,\n",
       "        [156, 142, 190],\n",
       "        [165, 149, 197],\n",
       "        [174, 160, 208]],\n",
       "\n",
       "       [[129, 103, 167],\n",
       "        [130, 104, 168],\n",
       "        [131, 105, 169],\n",
       "        ...,\n",
       "        [154, 134, 193],\n",
       "        [155, 133, 192],\n",
       "        [154, 134, 193]],\n",
       "\n",
       "       ...,\n",
       "\n",
       "       [[102,  77, 157],\n",
       "        [102,  77, 157],\n",
       "        [102,  77, 157],\n",
       "        ...,\n",
       "        [ 76,  93, 119],\n",
       "        [ 73,  93, 118],\n",
       "        [ 72,  92, 117]],\n",
       "\n",
       "       [[106,  81, 161],\n",
       "        [106,  81, 161],\n",
       "        [105,  81, 159],\n",
       "        ...,\n",
       "        [ 75,  92, 118],\n",
       "        [ 73,  93, 118],\n",
       "        [ 74,  94, 119]],\n",
       "\n",
       "       [[113,  88, 168],\n",
       "        [112,  87, 167],\n",
       "        [111,  87, 165],\n",
       "        ...,\n",
       "        [ 75,  92, 118],\n",
       "        [ 73,  93, 118],\n",
       "        [ 72,  92, 117]]], dtype=uint8)"
      ]
     },
     "execution_count": 11,
     "metadata": {},
     "output_type": "execute_result"
    }
   ],
   "source": [
    "#이미지에 원 채우기 (img, 중심의 위치 , 반지름의 크기 , 색 , 선의 크기 -1이면 전체가 채워짐)\n",
    "cv2.circle(img , (275,75) , 25, (0,255,255) , -1)\n",
    "#cv2.imshow(\"mydog-draw\" ,img)"
   ]
  },
  {
   "cell_type": "code",
   "execution_count": 12,
   "metadata": {},
   "outputs": [
    {
     "data": {
      "text/plain": [
       "array([[[130, 104, 168],\n",
       "        [130, 104, 168],\n",
       "        [131, 105, 169],\n",
       "        ...,\n",
       "        [184, 171, 215],\n",
       "        [191, 178, 222],\n",
       "        [201, 188, 232]],\n",
       "\n",
       "       [[130, 104, 168],\n",
       "        [131, 105, 169],\n",
       "        [131, 105, 169],\n",
       "        ...,\n",
       "        [156, 142, 190],\n",
       "        [165, 149, 197],\n",
       "        [174, 160, 208]],\n",
       "\n",
       "       [[129, 103, 167],\n",
       "        [130, 104, 168],\n",
       "        [131, 105, 169],\n",
       "        ...,\n",
       "        [154, 134, 193],\n",
       "        [155, 133, 192],\n",
       "        [154, 134, 193]],\n",
       "\n",
       "       ...,\n",
       "\n",
       "       [[102,  77, 157],\n",
       "        [102,  77, 157],\n",
       "        [102,  77, 157],\n",
       "        ...,\n",
       "        [ 76,  93, 119],\n",
       "        [ 73,  93, 118],\n",
       "        [ 72,  92, 117]],\n",
       "\n",
       "       [[106,  81, 161],\n",
       "        [106,  81, 161],\n",
       "        [105,  81, 159],\n",
       "        ...,\n",
       "        [ 75,  92, 118],\n",
       "        [ 73,  93, 118],\n",
       "        [ 74,  94, 119]],\n",
       "\n",
       "       [[113,  88, 168],\n",
       "        [112,  87, 167],\n",
       "        [111,  87, 165],\n",
       "        ...,\n",
       "        [ 75,  92, 118],\n",
       "        [ 73,  93, 118],\n",
       "        [ 72,  92, 117]]], dtype=uint8)"
      ]
     },
     "execution_count": 12,
     "metadata": {},
     "output_type": "execute_result"
    }
   ],
   "source": [
    "#이미지에 선 그리기(img , 시작점 , 끝점 , 색 , 굵기)\n",
    "cv2.line(img, (350,100) , (400,100) , (255,0,0),5)\n",
    "#cv2.imshow(\"mydog-draw\" ,img)"
   ]
  },
  {
   "cell_type": "code",
   "execution_count": 13,
   "metadata": {},
   "outputs": [],
   "source": [
    "#이미지에 글 쓰기(img , 원하는 텍스트 , 시작점 , 폰트 , 폰트의 크기 , 색 , 폰트의 굵기)\n",
    "cv2.putText(img,'OpenCVStudy' , (450,100), cv2.FONT_HERSHEY_SIMPLEX,1,(255,255,255),5)\n",
    "cv2.imshow(\"mydog-draw\" ,img)"
   ]
  },
  {
   "cell_type": "code",
   "execution_count": 14,
   "metadata": {},
   "outputs": [],
   "source": [
    "cv2.waitKey(0)\n",
    "cv2.destroyAllWindows()"
   ]
  }
 ],
 "metadata": {
  "kernelspec": {
   "display_name": "Python 3",
   "language": "python",
   "name": "python3"
  },
  "language_info": {
   "codemirror_mode": {
    "name": "ipython",
    "version": 3
   },
   "file_extension": ".py",
   "mimetype": "text/x-python",
   "name": "python",
   "nbconvert_exporter": "python",
   "pygments_lexer": "ipython3",
   "version": "3.7.3"
  }
 },
 "nbformat": 4,
 "nbformat_minor": 2
}
